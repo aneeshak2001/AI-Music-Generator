{
 "cells": [
  {
   "cell_type": "code",
   "execution_count": 1,
   "id": "a1532651",
   "metadata": {},
   "outputs": [],
   "source": [
    "import glob\n",
    "import pickle\n",
    "import numpy\n",
    "from music21 import *\n",
    "from tensorflow.keras.models import Sequential\n",
    "from tensorflow.keras.layers import Dense, Dropout, LSTM, Activation\n",
    "from tensorflow.keras.layers import BatchNormalization as BatchNorm\n",
    "from tensorflow.keras.utils import to_categorical\n",
    "\n",
    "from tensorflow.keras.callbacks import ModelCheckpoint\n",
    "import tensorflow as tf\n",
    "\n",
    "\n",
    "tf.compat.v1.disable_eager_execution()"
   ]
  },
  {
   "cell_type": "code",
   "execution_count": 2,
   "id": "0ba1617a",
   "metadata": {},
   "outputs": [
    {
     "name": "stdout",
     "output_type": "stream",
     "text": [
      "Parsing training_songs/balamb.mid\n",
      "Parsing training_songs/ff4_piano_collections-main_theme.mid\n",
      "Parsing training_songs/Eternal_Harvest.mid\n",
      "Parsing training_songs/traitor.mid\n",
      "Parsing training_songs/Finalfantasy5gilgameshp.mid\n",
      "Parsing training_songs/decisive.mid\n",
      "Parsing training_songs/tpirtsd-piano.mid\n",
      "Parsing training_songs/FFIX_Piano.mid\n",
      "Parsing training_songs/bcm.mid\n",
      "Parsing training_songs/Finalfantasy6fanfarecomplete.mid\n",
      "Parsing training_songs/rufus.mid\n",
      "Parsing training_songs/FF4.mid\n",
      "Parsing training_songs/fortresscondor.mid\n",
      "Parsing training_songs/Rydia_pc.mid\n",
      "Parsing training_songs/Rachel_Piano_tempofix.mid\n",
      "Parsing training_songs/In_Zanarkand.mid\n",
      "Parsing training_songs/Fyw_piano.mid\n",
      "Parsing training_songs/electric_de_chocobo.mid\n",
      "Parsing training_songs/pkelite4.mid\n",
      "Parsing training_songs/Final_Fantasy_Matouyas_Cave_Piano.mid\n",
      "Parsing training_songs/ff6shap.mid\n",
      "Parsing training_songs/FF6epitaph_piano.mid\n",
      "Parsing training_songs/ff11_awakening_piano.mid\n",
      "Parsing training_songs/HighwindTakestotheSkies.mid\n",
      "Parsing training_songs/ff4-town.mid\n",
      "Parsing training_songs/dayafter.mid\n",
      "Parsing training_songs/FF3_Battle_(Piano).mid\n",
      "Parsing training_songs/Ff7-One_Winged.mid\n",
      "Parsing training_songs/ultimafro.mid\n",
      "Parsing training_songs/Fierce_Battle_(Piano).mid\n",
      "Parsing training_songs/ff7themep.mid\n",
      "Parsing training_songs/redwings.mid\n",
      "Parsing training_songs/sandy.mid\n",
      "Parsing training_songs/AT.mid\n",
      "Parsing training_songs/EyesOnMePiano.mid\n",
      "Parsing training_songs/OTD5YA.mid\n",
      "Parsing training_songs/ff4-airship.mid\n",
      "Parsing training_songs/Suteki_Da_Ne_(Piano_Version).mid\n",
      "Parsing training_songs/Ff7-Jenova_Absolute.mid\n",
      "Parsing training_songs/sera_.mid\n",
      "Parsing training_songs/lurk_in_dark.mid\n",
      "Parsing training_songs/Kingdom_Hearts_Traverse_Town.mid\n",
      "Parsing training_songs/waltz_de_choco.mid\n",
      "Parsing training_songs/ahead_on_our_way_piano.mid\n",
      "Parsing training_songs/costadsol.mid\n",
      "Parsing training_songs/Oppressed.mid\n",
      "Parsing training_songs/cosmo.mid\n",
      "Parsing training_songs/Cids.mid\n",
      "Parsing training_songs/FFX_-_Ending_Theme_(Piano_Version)_-_by_Angel_FF.mid\n",
      "Parsing training_songs/Fiend_Battle_(Piano).mid\n",
      "Parsing training_songs/braska.mid\n",
      "Parsing training_songs/mining.mid\n",
      "Parsing training_songs/Ff4-BattleLust.mid\n",
      "Parsing training_songs/ultros.mid\n",
      "Parsing training_songs/Ff7-Cinco.mid\n",
      "Parsing training_songs/ff8-lfp.mid\n",
      "Parsing training_songs/Zelda_Overworld.mid\n",
      "Parsing training_songs/goldsaucer.mid\n",
      "Parsing training_songs/0fithos.mid\n",
      "Parsing training_songs/Gold_Silver_Rival_Battle.mid\n",
      "Parsing training_songs/dontbeafraid.mid\n",
      "Parsing training_songs/Final_Fantasy_7_-_Judgement_Day_Piano.mid\n",
      "Parsing training_songs/ff1battp.mid\n",
      "Parsing training_songs/caitsith.mid\n",
      "Parsing training_songs/FFVII_BATTLE.mid\n",
      "Parsing training_songs/FFIII_Edgar_And_Sabin_Piano.mid\n",
      "Parsing training_songs/gerudo.mid\n",
      "Parsing training_songs/FF8_Shuffle_or_boogie_pc.mid\n",
      "Parsing training_songs/z_aeristhemepiano.mid\n",
      "Parsing training_songs/great_war.mid\n",
      "Parsing training_songs/Kingdom_Hearts_Dearly_Beloved.mid\n",
      "Parsing training_songs/ff4-fight1.mid\n",
      "Parsing training_songs/Life_Stream.mid\n",
      "Parsing training_songs/FF3_Third_Phase_Final_(Piano).mid\n",
      "Parsing training_songs/Still_Alive-1.mid\n",
      "Parsing training_songs/thoughts.mid\n",
      "Parsing training_songs/8.mid\n",
      "Parsing training_songs/ff4pclov.mid\n",
      "Parsing training_songs/VincentPiano.mid\n",
      "Parsing training_songs/sobf.mid\n",
      "Parsing training_songs/tifap.mid\n",
      "Parsing training_songs/ff7-mainmidi.mid\n",
      "Parsing training_songs/FFIXQuMarshP.mid\n",
      "Parsing training_songs/DOS.mid\n",
      "Parsing training_songs/thenightmarebegins.mid\n",
      "Parsing training_songs/figaro.mid\n",
      "Parsing training_songs/ViviinAlexandria.mid\n",
      "Parsing training_songs/BlueStone_LastDungeon.mid\n",
      "Parsing training_songs/path_of_repentance.mid\n",
      "Parsing training_songs/JENOVA.mid\n",
      "Parsing training_songs/relmstheme-piano.mid\n",
      "Parsing training_songs/roseofmay-piano.mid\n",
      "\n",
      "Total Songs =  92\n"
     ]
    }
   ],
   "source": [
    "#Extraction of all notes in sequence from the training songs\n",
    "notes = []\n",
    "song_count=0\n",
    "for file in glob.glob(\"training_songs/*.mid\"):\n",
    "  song_count = song_count + 1\n",
    "  midi = converter.parse(file)\n",
    "\n",
    "  print(\"Parsing %s\" % file)\n",
    "\n",
    "  notes_to_parse = None\n",
    "\n",
    "  try: # file has instrument parts\n",
    "    s2 = instrument.partitionByInstrument(midi)\n",
    "    notes_to_parse = s2.parts[0].recurse() \n",
    "  except: # file has notes in a flat structure\n",
    "    notes_to_parse = midi.flat.notes\n",
    "\n",
    "  for element in notes_to_parse:\n",
    "    #If notes\n",
    "    if isinstance(element, note.Note):\n",
    "      notes.append(str(element.pitch))\n",
    "    #If chords\n",
    "    elif isinstance(element, chord.Chord):\n",
    "      notes.append('.'.join(str(n) for n in element.normalOrder))\n",
    "\n",
    "print(\"\\nTotal Songs = \",song_count)      "
   ]
  },
  {
   "cell_type": "code",
   "execution_count": 3,
   "id": "5c1cbcb8",
   "metadata": {},
   "outputs": [
    {
     "name": "stdout",
     "output_type": "stream",
     "text": [
      "['F3', 'C4', '4.9', 'E4', 'C4', '2.5', 'E4', 'C4', '9.0', 'E4', 'C4', 'F3', 'C4', '4.9', 'E4', 'C4', '2.5', 'E4', 'C4', '9.0']\n"
     ]
    }
   ],
   "source": [
    "print(notes[0:20])"
   ]
  },
  {
   "cell_type": "code",
   "execution_count": 4,
   "id": "fe2d89bf",
   "metadata": {},
   "outputs": [
    {
     "name": "stdout",
     "output_type": "stream",
     "text": [
      "358\n"
     ]
    }
   ],
   "source": [
    "n_class = len(set(notes))\n",
    "print(n_class)"
   ]
  },
  {
   "cell_type": "code",
   "execution_count": 5,
   "id": "e8ca920c",
   "metadata": {},
   "outputs": [],
   "source": [
    "#Generating training sequences from the extracted notes\n",
    "\n",
    "\n",
    "sequence_length = 100\n",
    "\n",
    "#Get all pitch names\n",
    "pitchnames = sorted(set(item for item in notes))\n",
    "\n",
    "#Create a dictionary to map pitches to integers\n",
    "note_to_int = dict((note, number) for number, note in enumerate(pitchnames))\n",
    "\n",
    "network_input = []\n",
    "network_output = []\n",
    "\n",
    "#Create input sequences and the corresponding outputs\n",
    "for i in range(0, len(notes) - sequence_length, 1):\n",
    "  sequence_in = notes[i:i + sequence_length]\n",
    "  sequence_out = notes[i + sequence_length]\n",
    "  network_input.append([note_to_int[char] for char in sequence_in])\n",
    "  network_output.append(note_to_int[sequence_out])\n",
    "\n",
    "n_patterns = len(network_input)\n",
    "\n",
    "#Reshape the input into a format compatible with LSTM layers\n",
    "network_input = numpy.reshape(network_input, (n_patterns, sequence_length, 1))\n",
    "#Normalize input\n",
    "network_input = network_input / float(n_class)\n",
    "\n",
    "network_output = to_categorical(network_output)"
   ]
  },
  {
   "cell_type": "code",
   "execution_count": 6,
   "id": "0385b182",
   "metadata": {},
   "outputs": [
    {
     "name": "stdout",
     "output_type": "stream",
     "text": [
      "(57077, 100, 1)\n"
     ]
    }
   ],
   "source": [
    "print(network_input.shape)"
   ]
  },
  {
   "cell_type": "code",
   "execution_count": 7,
   "id": "bae19134",
   "metadata": {},
   "outputs": [],
   "source": [
    "#Creating the model structure\n",
    "model = Sequential()\n",
    "model.add(LSTM(\n",
    "    512,\n",
    "    input_shape=(network_input.shape[1], network_input.shape[2]),\n",
    "    recurrent_dropout=0.3,\n",
    "    return_sequences=True\n",
    "))\n",
    "model.add(LSTM(512, return_sequences=True, recurrent_dropout=0.3,))\n",
    "model.add(LSTM(512))\n",
    "model.add(Dropout(0.3))\n",
    "model.add(Dense(256))\n",
    "model.add(Activation('relu'))\n",
    "model.add(Dropout(0.3))\n",
    "model.add(Dense(n_class))\n",
    "model.add(Activation('softmax'))\n",
    "model.compile(loss='categorical_crossentropy', optimizer='Adam')"
   ]
  },
  {
   "cell_type": "code",
   "execution_count": null,
   "id": "75d34e50",
   "metadata": {},
   "outputs": [],
   "source": [
    "#You can skip the training as it can take a long time and load the weights directly in the next cell\n",
    "model.fit(network_input, network_output, batch_size=128, epochs=200)\n",
    "model.save_weights(\"model.hdf5\")"
   ]
  },
  {
   "cell_type": "code",
   "execution_count": 8,
   "id": "7e7b75a2",
   "metadata": {},
   "outputs": [],
   "source": [
    "#Load Weigts\n",
    "model.load_weights('model.hdf5')"
   ]
  },
  {
   "cell_type": "code",
   "execution_count": 9,
   "id": "c749e505",
   "metadata": {},
   "outputs": [
    {
     "name": "stdout",
     "output_type": "stream",
     "text": [
      "Sequence_Index =  33117\n",
      "Generating Note:  0\n"
     ]
    },
    {
     "name": "stderr",
     "output_type": "stream",
     "text": [
      "/home/aneeshak/anaconda3/lib/python3.7/site-packages/tensorflow/python/keras/engine/training.py:2325: UserWarning: `Model.state_updates` will be removed in a future version. This property should not be used in TensorFlow 2.0, as `updates` are applied automatically.\n",
      "  warnings.warn('`Model.state_updates` will be removed in a future version. '\n"
     ]
    },
    {
     "name": "stdout",
     "output_type": "stream",
     "text": [
      "Generating Note:  10\n",
      "Generating Note:  20\n",
      "Generating Note:  30\n",
      "Generating Note:  40\n",
      "Generating Note:  50\n",
      "Generating Note:  60\n",
      "Generating Note:  70\n",
      "Generating Note:  80\n",
      "Generating Note:  90\n",
      "Generating Note:  100\n",
      "Generating Note:  110\n",
      "Generating Note:  120\n",
      "Generating Note:  130\n",
      "Generating Note:  140\n",
      "Generating Note:  150\n",
      "Generating Note:  160\n",
      "Generating Note:  170\n",
      "Generating Note:  180\n",
      "Generating Note:  190\n",
      "Generating Note:  200\n",
      "Generating Note:  210\n",
      "Generating Note:  220\n",
      "Generating Note:  230\n",
      "Generating Note:  240\n",
      "Generating Note:  250\n",
      "Generating Note:  260\n",
      "Generating Note:  270\n",
      "Generating Note:  280\n",
      "Generating Note:  290\n",
      "Generating Note:  300\n",
      "Generating Note:  310\n",
      "Generating Note:  320\n",
      "Generating Note:  330\n",
      "Generating Note:  340\n",
      "Generating Note:  350\n",
      "Generating Note:  360\n",
      "Generating Note:  370\n",
      "Generating Note:  380\n",
      "Generating Note:  390\n",
      "Generating Note:  400\n",
      "Generating Note:  410\n",
      "Generating Note:  420\n",
      "Generating Note:  430\n",
      "Generating Note:  440\n",
      "Generating Note:  450\n",
      "Generating Note:  460\n",
      "Generating Note:  470\n",
      "Generating Note:  480\n",
      "Generating Note:  490\n"
     ]
    }
   ],
   "source": [
    "#Pick a random sequence from the input as a starting point for the prediction\n",
    "start = numpy.random.randint(0, len(network_input)-1)\n",
    "print(\"Sequence_Index = \", start)\n",
    "\n",
    "int_to_note = dict((number, note) for number, note in enumerate(pitchnames))\n",
    "\n",
    "pattern = network_input[start]\n",
    "prediction_output = []\n",
    "\n",
    "#Generate 500 notes\n",
    "for note_index in range(500):\n",
    "    if note_index%10==0:\n",
    "        print(\"Generating Note: \",note_index)\n",
    "    prediction_input = numpy.reshape(pattern, (1, len(pattern), 1))\n",
    "    \n",
    "\n",
    "    prediction = model.predict(prediction_input)\n",
    "\n",
    "\n",
    "    idx = numpy.argmax(prediction)\n",
    "    result = int_to_note[idx]\n",
    "    prediction_output.append(result)\n",
    "\n",
    "    \n",
    "    pattern = pattern[1:]\n",
    "    idx = idx/float(n_class)\n",
    "    pattern = numpy.append(pattern, idx)\n"
   ]
  },
  {
   "cell_type": "code",
   "execution_count": 10,
   "id": "916a7a82",
   "metadata": {},
   "outputs": [
    {
     "data": {
      "text/plain": [
       "'generated_samples/test_output2.mid'"
      ]
     },
     "execution_count": 10,
     "metadata": {},
     "output_type": "execute_result"
    }
   ],
   "source": [
    "#Process the output notes and create a midi file\n",
    "offset = 0\n",
    "output_notes = []\n",
    "\n",
    "# create note and chord objects based on the values generated by the model\n",
    "for pattern in prediction_output:\n",
    "    # pattern is a chord\n",
    "    if ('.' in pattern) or pattern.isdigit():\n",
    "        notes_in_chord = pattern.split('.')\n",
    "        notes = []\n",
    "        for current_note in notes_in_chord:\n",
    "            new_note = note.Note(int(current_note))\n",
    "            new_note.storedInstrument = instrument.Piano()\n",
    "            notes.append(new_note)\n",
    "        new_chord = chord.Chord(notes)\n",
    "        new_chord.offset = offset\n",
    "        output_notes.append(new_chord)\n",
    "    # pattern is a note\n",
    "    else:\n",
    "        new_note = note.Note(pattern)\n",
    "        new_note.offset = offset\n",
    "        new_note.storedInstrument = instrument.Piano()\n",
    "        output_notes.append(new_note)\n",
    "\n",
    "    # increase offset each iteration so that notes do not stack\n",
    "    offset += 0.5\n",
    "\n",
    "midi_stream = stream.Stream(output_notes)\n",
    "\n",
    "midi_stream.write('midi', fp='generated_samples/test_output2.mid')\n"
   ]
  },
  {
   "cell_type": "code",
   "execution_count": null,
   "id": "62f612a4",
   "metadata": {},
   "outputs": [],
   "source": []
  }
 ],
 "metadata": {
  "kernelspec": {
   "display_name": "Python 3",
   "language": "python",
   "name": "python3"
  },
  "language_info": {
   "codemirror_mode": {
    "name": "ipython",
    "version": 3
   },
   "file_extension": ".py",
   "mimetype": "text/x-python",
   "name": "python",
   "nbconvert_exporter": "python",
   "pygments_lexer": "ipython3",
   "version": "3.7.10"
  }
 },
 "nbformat": 4,
 "nbformat_minor": 5
}
